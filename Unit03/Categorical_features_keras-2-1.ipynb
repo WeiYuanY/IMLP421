{
 "cells": [
  {
   "cell_type": "markdown",
   "metadata": {},
   "source": [
    "# 資料前處理(Label encoding、 One hot encoding)\n",
    "這兩個編碼方式的目的是為了將類別 (categorical)或是文字(text)的資料轉換成數字，而讓程式能夠更好的去理解及運算。\n",
    "> Label encoding : 把每個類別 mapping 到某個整數，不會增加新欄位\n",
    "\n",
    "> One hot encoding : 為每個類別新增一個欄位，用 0/1 表示是否\n",
    "\n",
    "![](images/Encoder.PNG)\n",
    "\n",
    "\n",
    "### Encoding Categorical features (or label)\n",
    "![](images/Encoding.PNG)\n"
   ]
  },
  {
   "cell_type": "code",
   "execution_count": 1,
   "metadata": {
    "ExecuteTime": {
     "end_time": "2024-08-03T11:32:49.201630Z",
     "start_time": "2024-08-03T11:32:48.884538Z"
    }
   },
   "outputs": [],
   "source": [
    "import pandas as pd\n",
    "import numpy as np\n"
   ]
  },
  {
   "cell_type": "markdown",
   "metadata": {},
   "source": [
    "## 練習二：Keras - label encoder + to_categorical"
   ]
  },
  {
   "cell_type": "code",
   "execution_count": 2,
   "metadata": {
    "ExecuteTime": {
     "end_time": "2024-08-03T11:32:50.449735Z",
     "start_time": "2024-08-03T11:32:50.438750Z"
    }
   },
   "outputs": [],
   "source": [
    "def to_categorical(y, num_classes=None, dtype='float32'):\n",
    "    \"\"\"Converts a class vector (integers) to binary class matrix.\n",
    "    E.g. for use with categorical_crossentropy.\n",
    "    # Arguments\n",
    "        y: class vector to be converted into a matrix\n",
    "            (integers from 0 to num_classes).\n",
    "        num_classes: total number of classes.\n",
    "        dtype: The data type expected by the input, as a string\n",
    "            (`float32`, `float64`, `int32`...)\n",
    "    # Returns\n",
    "        A binary matrix representation of the input. The classes axis\n",
    "        is placed last.\n",
    "    # Example\n",
    "    ```python\n",
    "    # Consider an array of 5 labels out of a set of 3 classes {0, 1, 2}:\n",
    "    > labels\n",
    "    array([0, 2, 1, 2, 0])\n",
    "    # `to_categorical` converts this into a matrix with as many\n",
    "    # columns as there are classes. The number of rows\n",
    "    # stays the same.\n",
    "    > to_categorical(labels)\n",
    "    array([[ 1.,  0.,  0.],\n",
    "           [ 0.,  0.,  1.],\n",
    "           [ 0.,  1.,  0.],\n",
    "           [ 0.,  0.,  1.],\n",
    "           [ 1.,  0.,  0.]], dtype=float32)\n",
    "    ```\n",
    "    \"\"\"\n",
    "    #將輸入y向量轉換為陣列\n",
    "    y = np.array(y, dtype='int')\n",
    "    #獲取陣列的行列大小\n",
    "    input_shape = y.shape\n",
    "    if input_shape and input_shape[-1] == 1 and len(input_shape) > 1:\n",
    "        input_shape = tuple(input_shape[:-1])\n",
    "    #y變為1維陣列\n",
    "    y = y.ravel()\n",
    "    #如果使用者沒有輸入分類個數，則自行計算分類個數\n",
    "    if not num_classes:\n",
    "        num_classes = np.max(y) + 1\n",
    "    n = y.shape[0]\n",
    "    #生成全為0的n行num_classes列的值全為0的矩陣\n",
    "    categorical = np.zeros((n, num_classes), dtype=dtype)\n",
    "    #np.arange(n)得到每個行的位置值，y裡邊則是每個列的位置值\n",
    "    categorical[np.arange(n), y] = 1\n",
    "    #進行reshape矯正\n",
    "    output_shape = input_shape + (num_classes,)\n",
    "    categorical = np.reshape(categorical, output_shape)\n",
    "    return categorical"
   ]
  },
  {
   "cell_type": "code",
   "execution_count": 3,
   "metadata": {
    "ExecuteTime": {
     "end_time": "2024-08-03T11:33:04.789466Z",
     "start_time": "2024-08-03T11:33:04.155070Z"
    }
   },
   "outputs": [
    {
     "ename": "ModuleNotFoundError",
     "evalue": "No module named 'np_utils'",
     "output_type": "error",
     "traceback": [
      "\u001b[1;31m---------------------------------------------------------------------------\u001b[0m",
      "\u001b[1;31mModuleNotFoundError\u001b[0m                       Traceback (most recent call last)",
      "Cell \u001b[1;32mIn[3], line 11\u001b[0m\n\u001b[0;32m      7\u001b[0m data\u001b[39m=\u001b[39mpd\u001b[39m.\u001b[39mDataFrame(dic)\n\u001b[0;32m     10\u001b[0m \u001b[39mfrom\u001b[39;00m \u001b[39msklearn\u001b[39;00m\u001b[39m.\u001b[39;00m\u001b[39mpreprocessing\u001b[39;00m \u001b[39mimport\u001b[39;00m LabelEncoder\n\u001b[1;32m---> 11\u001b[0m \u001b[39mimport\u001b[39;00m \u001b[39mnp_utils\u001b[39;00m\n\u001b[0;32m     13\u001b[0m \u001b[39m# label encoder \u001b[39;00m\n\u001b[0;32m     14\u001b[0m encoder \u001b[39m=\u001b[39m LabelEncoder()\n",
      "\u001b[1;31mModuleNotFoundError\u001b[0m: No module named 'np_utils'"
     ]
    }
   ],
   "source": [
    "import numpy as np\n",
    "import pandas as pd\n",
    "country=['Taiwan','Australia','Ireland','Australia','Ireland','Taiwan']\n",
    "age=[25,30,45,35,22,36]\n",
    "salary=[20000,32000,59000,60000,43000,52000]\n",
    "dic={'Country':country,'Age':age,'Salary':salary}\n",
    "data=pd.DataFrame(dic)\n",
    "\n",
    "\n",
    "from sklearn.preprocessing import LabelEncoder\n",
    "import np_utils\n",
    "\n",
    "# label encoder \n",
    "encoder = LabelEncoder()\n",
    "encoded_Y = encoder.fit_transform(data['Country'])\n",
    "print(encoded_Y)\n",
    "data['Country']=encoded_Y\n",
    "data\n",
    "\n",
    "# convert integers to one hot encoding\n",
    "dummy_y = to_categorical(encoded_Y)  # one-hot encoding [0. 1. 0.] \n",
    "dummy_y\n"
   ]
  },
  {
   "cell_type": "code",
   "execution_count": 6,
   "metadata": {},
   "outputs": [
    {
     "name": "stdout",
     "output_type": "stream",
     "text": [
      "Label Encoded: [0 2 1 3 2]\n",
      "One-Hot Encoded:\n",
      " [[1. 0. 0. 0.]\n",
      " [0. 0. 1. 0.]\n",
      " [0. 1. 0. 0.]\n",
      " [0. 0. 0. 1.]\n",
      " [0. 0. 1. 0.]]\n"
     ]
    }
   ],
   "source": [
    "import pandas as pd\n",
    "from sklearn.preprocessing import LabelEncoder\n",
    "import tensorflow as tf\n",
    "\n",
    "# 創建示例數據\n",
    "dic = {\n",
    "    'blood': ['A', 'B', 'AB', 'O', 'B'], \n",
    "    'Y': ['high', 'low', 'high', 'mid', 'mid']\n",
    "}\n",
    "data = pd.DataFrame(dic)\n",
    "\n",
    "# 編碼 'blood' 列\n",
    "encoder = LabelEncoder()\n",
    "integer_encoded = encoder.fit_transform(data['blood'])\n",
    "\n",
    "# 進行 one-hot 編碼\n",
    "one_hot_encoded = tf.keras.utils.to_categorical(integer_encoded)\n",
    "\n",
    "print(\"Label Encoded:\", integer_encoded)\n",
    "print(\"One-Hot Encoded:\\n\", one_hot_encoded)\n"
   ]
  }
 ],
 "metadata": {
  "kernelspec": {
   "display_name": "Python 3 (ipykernel)",
   "language": "python",
   "name": "python3"
  },
  "language_info": {
   "codemirror_mode": {
    "name": "ipython",
    "version": 3
   },
   "file_extension": ".py",
   "mimetype": "text/x-python",
   "name": "python",
   "nbconvert_exporter": "python",
   "pygments_lexer": "ipython3",
   "version": "3.10.11"
  },
  "toc": {
   "base_numbering": 1,
   "nav_menu": {},
   "number_sections": true,
   "sideBar": true,
   "skip_h1_title": false,
   "title_cell": "Table of Contents",
   "title_sidebar": "Contents",
   "toc_cell": false,
   "toc_position": {},
   "toc_section_display": true,
   "toc_window_display": false
  }
 },
 "nbformat": 4,
 "nbformat_minor": 4
}
