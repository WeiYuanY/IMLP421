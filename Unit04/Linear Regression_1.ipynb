{
 "cells": [
  {
   "cell_type": "markdown",
   "metadata": {},
   "source": [
    "# Linear Regression\n"
   ]
  },
  {
   "cell_type": "code",
   "execution_count": 1,
   "metadata": {
    "ExecuteTime": {
     "end_time": "2024-08-06T13:38:04.261062Z",
     "start_time": "2024-08-06T13:38:02.112896Z"
    }
   },
   "outputs": [],
   "source": [
    "%matplotlib inline\n",
    "import numpy as np\n",
    "import matplotlib.pyplot as plt"
   ]
  },
  {
   "cell_type": "markdown",
   "metadata": {},
   "source": [
    "## 1. 線性迴歸基本概念"
   ]
  },
  {
   "cell_type": "markdown",
   "metadata": {},
   "source": [
    "#### 直線\n",
    "\n",
    "$$f(x) = 1.2x + 0.8$$\n",
    "\n"
   ]
  },
  {
   "cell_type": "code",
   "execution_count": 2,
   "metadata": {
    "ExecuteTime": {
     "end_time": "2024-08-06T13:38:07.741395Z",
     "start_time": "2024-08-06T13:38:07.719668Z"
    }
   },
   "outputs": [
    {
     "name": "stdout",
     "output_type": "stream",
     "text": [
      "[0.         0.10204082 0.20408163 0.30612245 0.40816327 0.51020408\n",
      " 0.6122449  0.71428571 0.81632653 0.91836735 1.02040816 1.12244898\n",
      " 1.2244898  1.32653061 1.42857143 1.53061224 1.63265306 1.73469388\n",
      " 1.83673469 1.93877551 2.04081633 2.14285714 2.24489796 2.34693878\n",
      " 2.44897959 2.55102041 2.65306122 2.75510204 2.85714286 2.95918367\n",
      " 3.06122449 3.16326531 3.26530612 3.36734694 3.46938776 3.57142857\n",
      " 3.67346939 3.7755102  3.87755102 3.97959184 4.08163265 4.18367347\n",
      " 4.28571429 4.3877551  4.48979592 4.59183673 4.69387755 4.79591837\n",
      " 4.89795918 5.        ]\n"
     ]
    }
   ],
   "source": [
    "#準備 50 個點\n",
    "#5-0/50 = 0.1 +....\n",
    "# 0~5線性切割\n",
    "x = np.linspace(0, 5, 50)\n",
    "print(x)"
   ]
  },
  {
   "cell_type": "code",
   "execution_count": 3,
   "metadata": {
    "ExecuteTime": {
     "end_time": "2024-08-06T13:38:12.441576Z",
     "start_time": "2024-08-06T13:38:12.422279Z"
    }
   },
   "outputs": [
    {
     "data": {
      "text/plain": [
       "array([0.8       , 0.92244898, 1.04489796, 1.16734694, 1.28979592,\n",
       "       1.4122449 , 1.53469388, 1.65714286, 1.77959184, 1.90204082,\n",
       "       2.0244898 , 2.14693878, 2.26938776, 2.39183673, 2.51428571,\n",
       "       2.63673469, 2.75918367, 2.88163265, 3.00408163, 3.12653061,\n",
       "       3.24897959, 3.37142857, 3.49387755, 3.61632653, 3.73877551,\n",
       "       3.86122449, 3.98367347, 4.10612245, 4.22857143, 4.35102041,\n",
       "       4.47346939, 4.59591837, 4.71836735, 4.84081633, 4.96326531,\n",
       "       5.08571429, 5.20816327, 5.33061224, 5.45306122, 5.5755102 ,\n",
       "       5.69795918, 5.82040816, 5.94285714, 6.06530612, 6.1877551 ,\n",
       "       6.31020408, 6.43265306, 6.55510204, 6.67755102, 6.8       ])"
      ]
     },
     "execution_count": 3,
     "metadata": {},
     "output_type": "execute_result"
    }
   ],
   "source": [
    "y = 1.2*x + 0.8\n",
    "y"
   ]
  },
  {
   "cell_type": "code",
   "execution_count": 4,
   "metadata": {
    "ExecuteTime": {
     "end_time": "2024-08-06T13:38:29.751046Z",
     "start_time": "2024-08-06T13:38:29.395423Z"
    }
   },
   "outputs": [
    {
     "data": {
      "text/plain": [
       "[<matplotlib.lines.Line2D at 0x29b28490910>]"
      ]
     },
     "execution_count": 4,
     "metadata": {},
     "output_type": "execute_result"
    },
    {
     "data": {
      "image/png": "[encoded data removed]",
      "text/plain": [
       "<Figure size 432x288 with 1 Axes>"
      ]
     },
     "metadata": {
      "needs_background": "light"
     },
     "output_type": "display_data"
    }
   ],
   "source": [
    "#畫圖\n",
    "plt.scatter(x,y)\n",
    "plt.plot(x, 1.2*x+0.8, 'r')"
   ]
  },
  {
   "cell_type": "markdown",
   "metadata": {},
   "source": [
    "#### add noise \n",
    "\n",
    "$$f(x) + \\varepsilon(x)$$\n"
   ]
  },
  {
   "cell_type": "code",
   "execution_count": 5,
   "metadata": {
    "ExecuteTime": {
     "end_time": "2024-08-06T13:39:00.941292Z",
     "start_time": "2024-08-06T13:39:00.923379Z"
    }
   },
   "outputs": [
    {
     "name": "stdout",
     "output_type": "stream",
     "text": [
      "[0.29322886 1.59085278 1.65503703 1.52043009 1.45726655 1.19337656\n",
      " 0.79511811 1.35146034 1.74129953 1.62397735 2.38125777 2.83252957\n",
      " 1.51239264 1.51180392 2.37543101 3.03737001 3.15781468 3.34447167\n",
      " 2.3096087  3.22938082 3.19741431 3.97392102 3.6387498  4.29928793\n",
      " 3.45403916 3.87017659 3.7388936  3.44452725 4.93555924 2.98643907\n",
      " 5.33736117 4.42686277 4.91934734 4.54425809 5.44478467 4.28420749\n",
      " 5.05227424 5.68591105 5.5522784  6.4506728  4.46881596 6.06755451\n",
      " 6.52052915 5.8353127  6.05836019 6.19633829 6.01551569 6.78715353\n",
      " 6.19873593 6.50150767]\n"
     ]
    }
   ],
   "source": [
    "y = 1.2*x + 0.8 + 0.6*np.random.randn(50)\n",
    "print(y)"
   ]
  },
  {
   "cell_type": "code",
   "execution_count": 7,
   "metadata": {
    "ExecuteTime": {
     "end_time": "2024-08-06T13:39:56.398063Z",
     "start_time": "2024-08-06T13:39:56.083059Z"
    }
   },
   "outputs": [
    {
     "data": {
      "text/plain": [
       "[<matplotlib.lines.Line2D at 0x29b2a61a340>]"
      ]
     },
     "execution_count": 7,
     "metadata": {},
     "output_type": "execute_result"
    },
    {
     "data": {
      "image/png": "[encoded data removed]",
      "text/plain": [
       "<Figure size 432x288 with 1 Axes>"
      ]
     },
     "metadata": {
      "needs_background": "light"
     },
     "output_type": "display_data"
    }
   ],
   "source": [
    "plt.scatter(x,y)\n",
    "plt.plot(x, 1.2*x + 0.8, 'r')"
   ]
  },
  {
   "cell_type": "code",
   "execution_count": 8,
   "metadata": {
    "ExecuteTime": {
     "end_time": "2024-08-06T13:39:59.176060Z",
     "start_time": "2024-08-06T13:39:57.465913Z"
    }
   },
   "outputs": [
    {
     "name": "stderr",
     "output_type": "stream",
     "text": [
      "C:\\Users\\User\\anaconda3\\lib\\site-packages\\scipy\\__init__.py:146: UserWarning: A NumPy version >=1.16.5 and <1.23.0 is required for this version of SciPy (detected version 1.26.4\n",
      "  warnings.warn(f\"A NumPy version >={np_minversion} and <{np_maxversion}\"\n"
     ]
    }
   ],
   "source": [
    "from sklearn.linear_model import LinearRegression\n",
    "regr = LinearRegression()"
   ]
  },
  {
   "cell_type": "code",
   "execution_count": 9,
   "metadata": {
    "ExecuteTime": {
     "end_time": "2024-08-06T13:40:03.498620Z",
     "start_time": "2024-08-06T13:40:03.470671Z"
    }
   },
   "outputs": [
    {
     "data": {
      "text/plain": [
       "LinearRegression()"
      ]
     },
     "execution_count": 9,
     "metadata": {},
     "output_type": "execute_result"
    }
   ],
   "source": [
    "regr"
   ]
  },
  {
   "cell_type": "markdown",
   "metadata": {},
   "source": [
    "要求資料轉換<br>\n",
    "\n",
    "$$[x_1, x_2, \\ldots, x_{50}]$$\n",
    "\n",
    "==> \n",
    "\n",
    "$$[[x_1], [x_2], \\ldots, [x_{50}]]$$\n",
    "\n",
    "\n",
    "矩陣的概念"
   ]
  },
  {
   "cell_type": "code",
   "execution_count": 10,
   "metadata": {
    "ExecuteTime": {
     "end_time": "2024-08-06T13:40:23.800917Z",
     "start_time": "2024-08-06T13:40:23.785575Z"
    }
   },
   "outputs": [
    {
     "name": "stdout",
     "output_type": "stream",
     "text": [
      "(50,)\n"
     ]
    },
    {
     "data": {
      "text/plain": [
       "(50, 1)"
      ]
     },
     "execution_count": 10,
     "metadata": {},
     "output_type": "execute_result"
    }
   ],
   "source": [
    "print(x.shape)\n",
    "X = x.reshape(-1,1) #增加維度\n",
    "X.shape"
   ]
  },
  {
   "cell_type": "code",
   "execution_count": 11,
   "metadata": {
    "ExecuteTime": {
     "end_time": "2024-08-06T13:40:43.340906Z",
     "start_time": "2024-08-06T13:40:43.183425Z"
    }
   },
   "outputs": [
    {
     "data": {
      "text/plain": [
       "LinearRegression()"
      ]
     },
     "execution_count": 11,
     "metadata": {},
     "output_type": "execute_result"
    }
   ],
   "source": [
    "#training\n",
    "regr.fit(X,y)"
   ]
  },
  {
   "cell_type": "code",
   "execution_count": 12,
   "metadata": {
    "ExecuteTime": {
     "end_time": "2024-08-06T13:41:40.411430Z",
     "start_time": "2024-08-06T13:41:40.393155Z"
    }
   },
   "outputs": [
    {
     "name": "stdout",
     "output_type": "stream",
     "text": [
      "[0.8454898  0.9651032  1.08471659 1.20432999 1.32394338 1.44355677\n",
      " 1.56317017 1.68278356 1.80239695 1.92201035 2.04162374 2.16123714\n",
      " 2.28085053 2.40046392 2.52007732 2.63969071 2.7593041  2.8789175\n",
      " 2.99853089 3.11814429 3.23775768 3.35737107 3.47698447 3.59659786\n",
      " 3.71621125 3.83582465 3.95543804 4.07505144 4.19466483 4.31427822\n",
      " 4.43389162 4.55350501 4.6731184  4.7927318  4.91234519 5.03195859\n",
      " 5.15157198 5.27118537 5.39079877 5.51041216 5.63002555 5.74963895\n",
      " 5.86925234 5.98886574 6.10847913 6.22809252 6.34770592 6.46731931\n",
      " 6.5869327  6.7065461 ]\n"
     ]
    }
   ],
   "source": [
    "Y = regr.predict(X)\n",
    "print(Y)"
   ]
  },
  {
   "cell_type": "code",
   "execution_count": 13,
   "metadata": {
    "ExecuteTime": {
     "end_time": "2024-08-06T13:42:04.919889Z",
     "start_time": "2024-08-06T13:42:04.909992Z"
    }
   },
   "outputs": [
    {
     "data": {
      "text/plain": [
       "{'copy_X': True,\n",
       " 'fit_intercept': True,\n",
       " 'n_jobs': None,\n",
       " 'normalize': False,\n",
       " 'positive': False}"
      ]
     },
     "execution_count": 13,
     "metadata": {},
     "output_type": "execute_result"
    }
   ],
   "source": [
    "#了解你的訓練參數\n",
    "regr.get_params()"
   ]
  },
  {
   "cell_type": "code",
   "execution_count": 14,
   "metadata": {
    "ExecuteTime": {
     "end_time": "2024-08-06T13:42:10.340638Z",
     "start_time": "2024-08-06T13:42:10.089911Z"
    }
   },
   "outputs": [
    {
     "name": "stdout",
     "output_type": "stream",
     "text": [
      "0.2781151987164561\n"
     ]
    },
    {
     "data": {
      "image/png": "[encoded data removed]",
      "text/plain": [
       "<Figure size 432x288 with 1 Axes>"
      ]
     },
     "metadata": {
      "needs_background": "light"
     },
     "output_type": "display_data"
    }
   ],
   "source": [
    "plt.scatter(x, y) #原本 \n",
    "plt.plot(x, Y, 'ro') #預測\n",
    "#calculate mse\n",
    "mse = np.sum((Y-y)**2) / len(y)\n",
    "print(mse)"
   ]
  },
  {
   "cell_type": "code",
   "execution_count": 15,
   "metadata": {
    "ExecuteTime": {
     "end_time": "2024-08-06T13:42:29.930714Z",
     "start_time": "2024-08-06T13:42:29.907351Z"
    }
   },
   "outputs": [
    {
     "data": {
      "text/plain": [
       "array([1.17221126])"
      ]
     },
     "execution_count": 15,
     "metadata": {},
     "output_type": "execute_result"
    }
   ],
   "source": [
    "#Y=WX+b\n",
    "W=regr.coef_#斜率\n",
    "W\n",
    "\n"
   ]
  },
  {
   "cell_type": "code",
   "execution_count": 16,
   "metadata": {
    "ExecuteTime": {
     "end_time": "2024-08-06T13:42:40.909109Z",
     "start_time": "2024-08-06T13:42:40.891929Z"
    }
   },
   "outputs": [
    {
     "data": {
      "text/plain": [
       "0.845489804204973"
      ]
     },
     "execution_count": 16,
     "metadata": {},
     "output_type": "execute_result"
    }
   ],
   "source": [
    "b=regr.intercept_ #截距\n",
    "b"
   ]
  },
  {
   "cell_type": "code",
   "execution_count": 17,
   "metadata": {
    "ExecuteTime": {
     "end_time": "2024-08-06T13:42:41.980588Z",
     "start_time": "2024-08-06T13:42:41.960978Z"
    }
   },
   "outputs": [
    {
     "data": {
      "text/plain": [
       "array([0.8454898 , 0.9651032 , 1.08471659, 1.20432999, 1.32394338,\n",
       "       1.44355677, 1.56317017, 1.68278356, 1.80239695, 1.92201035,\n",
       "       2.04162374, 2.16123714, 2.28085053, 2.40046392, 2.52007732,\n",
       "       2.63969071, 2.7593041 , 2.8789175 , 2.99853089, 3.11814429,\n",
       "       3.23775768, 3.35737107, 3.47698447, 3.59659786, 3.71621125,\n",
       "       3.83582465, 3.95543804, 4.07505144, 4.19466483, 4.31427822,\n",
       "       4.43389162, 4.55350501, 4.6731184 , 4.7927318 , 4.91234519,\n",
       "       5.03195859, 5.15157198, 5.27118537, 5.39079877, 5.51041216,\n",
       "       5.63002555, 5.74963895, 5.86925234, 5.98886574, 6.10847913,\n",
       "       6.22809252, 6.34770592, 6.46731931, 6.5869327 , 6.7065461 ])"
      ]
     },
     "execution_count": 17,
     "metadata": {},
     "output_type": "execute_result"
    }
   ],
   "source": [
    "Y"
   ]
  },
  {
   "cell_type": "code",
   "execution_count": 20,
   "metadata": {
    "ExecuteTime": {
     "end_time": "2024-08-06T13:45:08.526622Z",
     "start_time": "2024-08-06T13:45:08.510319Z"
    },
    "scrolled": true
   },
   "outputs": [
    {
     "data": {
      "text/plain": [
       "array([1.44355677])"
      ]
     },
     "execution_count": 20,
     "metadata": {},
     "output_type": "execute_result"
    }
   ],
   "source": [
    "#可以將新的x資料帶入算出結果\n",
    "#F(X)\n",
    "# W*3+b\n",
    "W*0.51020408+b"
   ]
  },
  {
   "cell_type": "code",
   "execution_count": 19,
   "metadata": {
    "ExecuteTime": {
     "end_time": "2024-08-06T13:42:46.610927Z",
     "start_time": "2024-08-06T13:42:46.590930Z"
    }
   },
   "outputs": [
    {
     "data": {
      "text/plain": [
       "array([0.29322886, 1.59085278, 1.65503703, 1.52043009, 1.45726655,\n",
       "       1.19337656, 0.79511811, 1.35146034, 1.74129953, 1.62397735,\n",
       "       2.38125777, 2.83252957, 1.51239264, 1.51180392, 2.37543101,\n",
       "       3.03737001, 3.15781468, 3.34447167, 2.3096087 , 3.22938082,\n",
       "       3.19741431, 3.97392102, 3.6387498 , 4.29928793, 3.45403916,\n",
       "       3.87017659, 3.7388936 , 3.44452725, 4.93555924, 2.98643907,\n",
       "       5.33736117, 4.42686277, 4.91934734, 4.54425809, 5.44478467,\n",
       "       4.28420749, 5.05227424, 5.68591105, 5.5522784 , 6.4506728 ,\n",
       "       4.46881596, 6.06755451, 6.52052915, 5.8353127 , 6.05836019,\n",
       "       6.19633829, 6.01551569, 6.78715353, 6.19873593, 6.50150767])"
      ]
     },
     "execution_count": 19,
     "metadata": {},
     "output_type": "execute_result"
    }
   ],
   "source": [
    "y"
   ]
  },
  {
   "cell_type": "code",
   "execution_count": null,
   "metadata": {},
   "outputs": [],
   "source": []
  }
 ],
 "metadata": {
  "anaconda-cloud": {},
  "kernelspec": {
   "display_name": "Python 3 (ipykernel)",
   "language": "python",
   "name": "python3"
  },
  "language_info": {
   "codemirror_mode": {
    "name": "ipython",
    "version": 3
   },
   "file_extension": ".py",
   "mimetype": "text/x-python",
   "name": "python",
   "nbconvert_exporter": "python",
   "pygments_lexer": "ipython3",
   "version": "3.9.7"
  },
  "toc": {
   "base_numbering": 1,
   "nav_menu": {},
   "number_sections": true,
   "sideBar": true,
   "skip_h1_title": false,
   "title_cell": "Table of Contents",
   "title_sidebar": "Contents",
   "toc_cell": false,
   "toc_position": {},
   "toc_section_display": true,
   "toc_window_display": false
  }
 },
 "nbformat": 4,
 "nbformat_minor": 1
}
