{
 "cells": [
  {
   "cell_type": "markdown",
   "metadata": {},
   "source": [
    "# Linear Regression\n"
   ]
  },
  {
   "cell_type": "code",
   "execution_count": 21,
   "metadata": {
    "ExecuteTime": {
     "end_time": "2024-08-06T13:56:38.078630Z",
     "start_time": "2024-08-06T13:56:38.060117Z"
    }
   },
   "outputs": [],
   "source": [
    "%matplotlib inline\n",
    "import numpy as np\n",
    "import matplotlib.pyplot as plt"
   ]
  },
  {
   "cell_type": "markdown",
   "metadata": {},
   "source": [
    "## 2.  線性迴歸訓練資料、測試資料\n",
    "\n",
    "80%  training data, 20%  testing data ==> 先利用此來驗證各種模型(演算法)的好壞及調好到最佳參數\n",
    "之後可以利用由這個80%的訓練資料所得的模型後,拿100%資料re-train模型以得到最佳模型 (此model會更佳fit data)\n"
   ]
  },
  {
   "cell_type": "code",
   "execution_count": 22,
   "metadata": {
    "ExecuteTime": {
     "end_time": "2024-08-06T13:56:39.247438Z",
     "start_time": "2024-08-06T13:56:39.221081Z"
    }
   },
   "outputs": [],
   "source": [
    "from sklearn.model_selection import train_test_split\n",
    "from sklearn.linear_model import LinearRegression"
   ]
  },
  {
   "cell_type": "code",
   "execution_count": 23,
   "metadata": {
    "ExecuteTime": {
     "end_time": "2024-08-06T13:56:39.667258Z",
     "start_time": "2024-08-06T13:56:39.653154Z"
    }
   },
   "outputs": [
    {
     "name": "stdout",
     "output_type": "stream",
     "text": [
      "[4.08163265 1.73469388 1.83673469 0.         2.75510204 3.36734694\n",
      " 3.67346939 4.28571429 1.02040816 0.30612245 4.18367347 1.32653061\n",
      " 4.69387755 0.20408163 3.87755102 3.97959184 0.51020408 4.3877551\n",
      " 3.7755102  3.06122449 0.6122449  2.95918367 1.63265306 1.93877551\n",
      " 5.         4.48979592 2.14285714 3.26530612 3.46938776 0.71428571\n",
      " 2.24489796 1.12244898 2.04081633 0.91836735 4.89795918 2.85714286\n",
      " 3.16326531 1.53061224 2.65306122 3.57142857]\n"
     ]
    }
   ],
   "source": [
    "x = np.linspace(0, 5, 50)\n",
    "y = 1.2*x + 0.8 + 0.6*np.random.randn(50)\n",
    "x_train, x_test, y_train, y_test = train_test_split(x, y, test_size=0.2, random_state=20)#random若沒設定會隨機排序，有設定的話會資料一樣會打亂但會固定data set順序\n",
    "print(x_train)"
   ]
  },
  {
   "cell_type": "code",
   "execution_count": 24,
   "metadata": {
    "ExecuteTime": {
     "end_time": "2024-08-06T13:56:40.258512Z",
     "start_time": "2024-08-06T13:56:40.239936Z"
    }
   },
   "outputs": [
    {
     "data": {
      "text/plain": [
       "array([1.0296652 , 0.43062666, 0.82595638, 2.25267671, 0.02273289,\n",
       "       2.33725563, 1.23891148, 2.47462864, 1.89700221, 2.10233974,\n",
       "       3.11124861, 1.19269428, 2.10491849, 3.0448219 , 2.55799399,\n",
       "       1.77725907, 2.18688903, 2.42779877, 3.03059827, 2.60044618,\n",
       "       3.14212066, 3.53659768, 3.44743519, 3.87528495, 3.29922038,\n",
       "       4.22051681, 3.38259229, 4.44477032, 3.7919744 , 4.79939253,\n",
       "       4.6151394 , 5.06189105, 4.19990214, 4.24502527, 4.75513848,\n",
       "       5.66688073, 5.14641917, 5.72850275, 6.21000577, 5.59000134,\n",
       "       5.12244565, 6.23944805, 6.78050833, 5.17836931, 6.61618264,\n",
       "       6.79164793, 5.55474204, 5.46790288, 6.33414688, 7.28615763])"
      ]
     },
     "execution_count": 24,
     "metadata": {},
     "output_type": "execute_result"
    }
   ],
   "source": [
    "y"
   ]
  },
  {
   "cell_type": "code",
   "execution_count": 25,
   "metadata": {
    "ExecuteTime": {
     "end_time": "2024-08-06T13:56:41.298842Z",
     "start_time": "2024-08-06T13:56:40.953748Z"
    }
   },
   "outputs": [
    {
     "data": {
      "text/plain": [
       "<matplotlib.collections.PathCollection at 0x2171483f370>"
      ]
     },
     "execution_count": 25,
     "metadata": {},
     "output_type": "execute_result"
    },
    {
     "data": {
      "image/png": "[encoded data removed]",
      "text/plain": [
       "<Figure size 432x288 with 1 Axes>"
      ]
     },
     "metadata": {
      "needs_background": "light"
     },
     "output_type": "display_data"
    }
   ],
   "source": [
    "plt.scatter(x_train, y_train)"
   ]
  },
  {
   "cell_type": "markdown",
   "metadata": {},
   "source": [
    "#### 用訓練資料來 fit 函數\n",
    "\n",
    "記得現在我們只用 80% 的資料去訓練。"
   ]
  },
  {
   "cell_type": "code",
   "execution_count": 26,
   "metadata": {
    "ExecuteTime": {
     "end_time": "2024-08-06T13:56:46.508772Z",
     "start_time": "2024-08-06T13:56:46.489975Z"
    },
    "scrolled": true
   },
   "outputs": [
    {
     "name": "stdout",
     "output_type": "stream",
     "text": [
      "Coefficients:  [1.14686323]\n",
      "interception:  0.9726882250964475\n"
     ]
    }
   ],
   "source": [
    "regr = LinearRegression()\n",
    "X_train = x_train.reshape(-1,1)\n",
    "regr.fit(X_train,y_train)\n",
    "print('Coefficients: ', regr.coef_)\n",
    "print('interception: ', regr.intercept_)"
   ]
  },
  {
   "cell_type": "code",
   "execution_count": 27,
   "metadata": {
    "ExecuteTime": {
     "end_time": "2024-08-06T13:56:47.117277Z",
     "start_time": "2024-08-06T13:56:47.103212Z"
    }
   },
   "outputs": [],
   "source": [
    "Y_train = regr.predict(X_train)"
   ]
  },
  {
   "cell_type": "code",
   "execution_count": 28,
   "metadata": {
    "ExecuteTime": {
     "end_time": "2024-08-06T13:56:47.828941Z",
     "start_time": "2024-08-06T13:56:47.816490Z"
    }
   },
   "outputs": [
    {
     "name": "stdout",
     "output_type": "stream",
     "text": [
      "0.3226903923855109\n"
     ]
    }
   ],
   "source": [
    "mse = np.sum((Y_train-y_train)**2) / len(y_train)\n",
    "print(mse)"
   ]
  },
  {
   "cell_type": "code",
   "execution_count": 29,
   "metadata": {
    "ExecuteTime": {
     "end_time": "2024-08-06T13:56:51.068156Z",
     "start_time": "2024-08-06T13:56:50.810201Z"
    }
   },
   "outputs": [
    {
     "data": {
      "text/plain": [
       "[<matplotlib.lines.Line2D at 0x217148a67c0>]"
      ]
     },
     "execution_count": 29,
     "metadata": {},
     "output_type": "execute_result"
    },
    {
     "data": {
      "image/png": "[encoded data removed]",
      "text/plain": [
       "<Figure size 432x288 with 1 Axes>"
      ]
     },
     "metadata": {
      "needs_background": "light"
     },
     "output_type": "display_data"
    }
   ],
   "source": [
    "plt.scatter(x_train, y_train)\n",
    "plt.plot(x_train, Y_train, 'r')"
   ]
  },
  {
   "cell_type": "markdown",
   "metadata": {},
   "source": [
    "#### test with test data"
   ]
  },
  {
   "cell_type": "code",
   "execution_count": 30,
   "metadata": {
    "ExecuteTime": {
     "end_time": "2024-08-06T13:57:08.518644Z",
     "start_time": "2024-08-06T13:57:08.509377Z"
    }
   },
   "outputs": [
    {
     "name": "stdout",
     "output_type": "stream",
     "text": [
      "[2.37701054 2.61106426 1.44079566 1.9089031  6.23889691 1.08971508\n",
      " 3.89835972 3.78133286 6.47295063 3.664306  ]\n"
     ]
    }
   ],
   "source": [
    "X_test = x_test.reshape(-1,1)\n",
    "Y_test = regr.predict(X_test)\n",
    "\n",
    "print(Y_test)"
   ]
  },
  {
   "cell_type": "markdown",
   "metadata": {},
   "source": [
    "$$\\widehat{y}=xw+b=w_{1}x_{1}+b$$"
   ]
  },
  {
   "cell_type": "code",
   "execution_count": 31,
   "metadata": {
    "ExecuteTime": {
     "end_time": "2024-08-06T13:57:16.359171Z",
     "start_time": "2024-08-06T13:57:16.340140Z"
    }
   },
   "outputs": [
    {
     "data": {
      "text/plain": [
       "array([[2.37701054],\n",
       "       [2.61106426],\n",
       "       [1.44079566],\n",
       "       [1.9089031 ],\n",
       "       [6.23889691],\n",
       "       [1.08971508],\n",
       "       [3.89835972],\n",
       "       [3.78133286],\n",
       "       [6.47295063],\n",
       "       [3.664306  ]])"
      ]
     },
     "execution_count": 31,
     "metadata": {},
     "output_type": "execute_result"
    }
   ],
   "source": [
    "#Y=WX+b\n",
    "W=regr.coef_\n",
    "b=regr.intercept_\n",
    "W*X_test+b\n"
   ]
  },
  {
   "cell_type": "code",
   "execution_count": 32,
   "metadata": {
    "ExecuteTime": {
     "end_time": "2024-08-06T13:57:26.197101Z",
     "start_time": "2024-08-06T13:57:26.180373Z"
    }
   },
   "outputs": [
    {
     "name": "stdout",
     "output_type": "stream",
     "text": [
      "0.42186761570946363\n"
     ]
    }
   ],
   "source": [
    "mse = np.sum((Y_test-y_test)**2) / len(y_test)\n",
    "print(mse)"
   ]
  },
  {
   "cell_type": "code",
   "execution_count": 33,
   "metadata": {
    "ExecuteTime": {
     "end_time": "2024-08-06T13:57:29.398116Z",
     "start_time": "2024-08-06T13:57:29.000318Z"
    },
    "scrolled": false
   },
   "outputs": [
    {
     "data": {
      "text/plain": [
       "<matplotlib.legend.Legend at 0x21714910c40>"
      ]
     },
     "execution_count": 33,
     "metadata": {},
     "output_type": "execute_result"
    },
    {
     "data": {
      "image/png": "[encoded data removed]",
      "text/plain": [
       "<Figure size 432x288 with 1 Axes>"
      ]
     },
     "metadata": {
      "needs_background": "light"
     },
     "output_type": "display_data"
    }
   ],
   "source": [
    "title='f(x)=1.2x+0.8'+',mse:'+str(round(mse,2))\n",
    "plt.title(title)\n",
    "plt.xlabel('x')\n",
    "plt.ylabel('y')\n",
    "#plt.grid(True)\n",
    "plt.scatter(x_test, y_test,alpha=0.8,label='Ground Truth')\n",
    "plt.scatter(x_test, Y_test, c='r', alpha=0.8,label='Predict')\n",
    "plt.legend()"
   ]
  },
  {
   "cell_type": "code",
   "execution_count": null,
   "metadata": {},
   "outputs": [],
   "source": []
  },
  {
   "cell_type": "code",
   "execution_count": null,
   "metadata": {},
   "outputs": [],
   "source": []
  }
 ],
 "metadata": {
  "anaconda-cloud": {},
  "kernelspec": {
   "display_name": "Python 3 (ipykernel)",
   "language": "python",
   "name": "python3"
  },
  "language_info": {
   "codemirror_mode": {
    "name": "ipython",
    "version": 3
   },
   "file_extension": ".py",
   "mimetype": "text/x-python",
   "name": "python",
   "nbconvert_exporter": "python",
   "pygments_lexer": "ipython3",
   "version": "3.9.7"
  },
  "toc": {
   "base_numbering": 1,
   "nav_menu": {},
   "number_sections": true,
   "sideBar": true,
   "skip_h1_title": false,
   "title_cell": "Table of Contents",
   "title_sidebar": "Contents",
   "toc_cell": false,
   "toc_position": {},
   "toc_section_display": true,
   "toc_window_display": false
  }
 },
 "nbformat": 4,
 "nbformat_minor": 1
}
